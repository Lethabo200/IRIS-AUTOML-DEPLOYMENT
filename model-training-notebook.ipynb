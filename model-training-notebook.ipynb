{
 "cells": [
  {
   "cell_type": "markdown",
   "metadata": {},
   "source": [
    "# Model Training for Iris Classification using Azure AutoML\n",
    "\n",
    "In this notebook, we'll use Azure AutoML to train a model for Iris flower classification. We'll perform the following steps:\n",
    "1. Connect to the Azure ML workspace\n",
    "2. Load the prepared dataset\n",
    "3. Configure AutoML\n",
    "4. Run AutoML\n",
    "5. Examine the results\n",
    "6. Retrieve the best model"
   ]
  },
  {
   "cell_type": "markdown",
   "metadata": {},
   "source": [
    "## 1. Connect to the Azure ML workspace and load necessary libraries"
   ]
  },
  {
   "cell_type": "code",
   "execution_count": null,
   "metadata": {},
   "outputs": [],
   "source": [
    "from azureml.core import Workspace, Dataset, Experiment\n",
    "from azureml.train.automl import AutoMLConfig\n",
    "from azureml.train.automl.run import AutoMLRun\n",
    "import logging\n",
    "\n",
    "# Connect to your workspace\n",
    "ws = Workspace.from_config()\n",
    "print(f\"Connected to workspace: {ws.name}\")"
   ]
  },
  {
   "cell_type": "markdown",
   "metadata": {},
   "source": [
    "## 2. Load the prepared dataset"
   ]
  },
  {
   "cell_type": "code",
   "execution_count": null,
   "metadata": {},
   "outputs": [],
   "source": [
    "# Get the dataset\n",
    "dataset = Dataset.get_by_name(ws, name='iris_dataset')\n",
    "df = dataset.to_pandas_dataframe()\n",
    "\n",
    "# Split features and target\n",
    "X = df.drop(['species'], axis=1)\n",
    "y = df['species']\n",
    "\n",
    "print(f\"Dataset shape: {df.shape}\")\n",
    "print(f\"Features: {X.columns.tolist()}\")\n",
    "print(f\"Target: {y.name}\")"
   ]
  },
  {
   "cell_type": "markdown",
   "metadata": {},
   "source": [
    "## 3. Configure AutoML"
   ]
  },
  {
   "cell_type": "code",
   "execution_count": null,
   "metadata": {},
   "outputs": [],
   "source": [
    "# Set parameters for AutoML run\n",
    "automl_settings = {\n",
    "    \"experiment_timeout_minutes\": 20,\n",
    "    \"max_concurrent_iterations\": 4,\n",
    "    \"primary_metric\": 'accuracy'\n",
    "}\n",
    "\n",
    "automl_config = AutoMLConfig(task='classification',\n",
    "                             training_data=dataset,\n",
    "                             label_column_name='species',\n",
    "                             enable_early_stopping=True,\n",
    "                             featurization='auto',\n",
    "                             debug_log='automl_errors.log',\n",
    "                             **automl_settings)"
   ]
  },
  {
   "cell_type": "markdown",
   "metadata": {},
   "source": [
    "## 4. Run AutoML"
   ]
  },
  {
   "cell_type": "code",
   "execution_count": null,
   "metadata": {},
   "outputs": [],
   "source": [
    "# Create an experiment\n",
    "experiment = Experiment(ws, \"iris_classification_automl\")\n",
    "\n",
    "# Submit the experiment\n",
    "automl_run = experiment.submit(automl_config, show_output=True)"
   ]
  },
  {
   "cell_type": "markdown",
   "metadata": {},
   "source": [
    "## 5. Examine the results"
   ]
  },
  {
   "cell_type": "code",
   "execution_count": null,
   "metadata": {},
   "outputs": [],
   "source": [
    "# Get the best model\n",
    "best_run, fitted_model = automl_run.get_output()\n",
    "print(f\"Best run id: {best_run.id}\")\n",
    "print(f\"Best run algorithm: {best_run.properties['run_algorithm']}\")\n",
    "print(f\"Best run accuracy: {best_run.properties['accuracy']}\")\n",
    "\n",
    "# Get all metrics of the best run\n",
    "best_run_metrics = best_run.get_metrics()\n",
    "for metric_name in best_run_metrics:\n",
    "    print(f\"{metric_name}: {best_run_metrics[metric_name]}\")\n",
    "\n",
    "# Get feature importances\n",
    "if hasattr(fitted_model, 'feature_importances_'):\n",
    "    importances = fitted_model.feature_importances_\n",
    "    feature_importance = pd.DataFrame({'feature': X.columns, 'importance': importances})\n",
    "    feature_importance = feature_importance.sort_values('importance', ascending=False)\n",
    "    print(\"\\nFeature Importances:\")\n",
    "    print(feature_importance)"
   ]
  },
  {
   "cell_type": "markdown",
   "metadata": {},
   "source": [
    "## 6. Retrieve and save the best model"
   ]
  },
  {
   "cell_type": "code",
   "execution_count": null,
   "metadata": {},
   "outputs": [],
   "source": [
    "# Register the model\n",
    "model_name = \"iris_classification_model\"\n",
    "model_description = \"AutoML model for Iris classification\"\n",
    "best_run.register_model(model_name=model_name, description=model_description)\n",
    "\n",
    "print(f\"Model registered: {model_name}\")"
   ]
  },
  {
   "cell_type": "markdown",
   "metadata": {},
   "source": [
    "## Conclusion\n",
    "\n",
    "We've successfully used Azure AutoML to train a model for Iris flower classification. The best model has been registered in our Azure ML workspace and is now ready for deployment in our next notebook."
   ]
  }
 ],
 "metadata": {
  "kernelspec": {
   "display_name": "Python 3",
   "language": "python",
   "name": "python3"
  },
  "language_info": {
   "codemirror_mode": {
    "name": "ipython",
    "version": 3
   },
   "file_extension": ".py",
   "mimetype": "text/x-python",
   "name": "python",
   "nbconvert_exporter": "python",
   "pygments_lexer": "ipython3",
   "version": "3.8.5"
  }
 },
 "nbformat": 4,
 "nbformat_minor": 4
}
