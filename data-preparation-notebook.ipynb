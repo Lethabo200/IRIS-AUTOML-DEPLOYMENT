{
 "cells": [
  {
   "cell_type": "markdown",
   "metadata": {},
   "source": [
    "# Data Preparation for Iris Classification\n",
    "\n",
    "In this notebook, we'll prepare the Iris dataset for our machine learning model. We'll perform the following steps:\n",
    "1. Load the dataset\n",
    "2. Explore the data\n",
    "3. Perform basic data cleaning\n",
    "4. Visualize the data\n",
    "5. Prepare the data for model training"
   ]
  },
  {
   "cell_type": "markdown",
   "metadata": {},
   "source": [
    "## 1. Load the necessary libraries and the dataset"
   ]
  },
  {
   "cell_type": "code",
   "execution_count": null,
   "metadata": {},
   "outputs": [],
   "source": [
    "import pandas as pd\n",
    "import numpy as np\n",
    "import matplotlib.pyplot as plt\n",
    "import seaborn as sns\n",
    "from sklearn.datasets import load_iris\n",
    "from azureml.core import Workspace, Dataset\n",
    "\n",
    "# Load the Iris dataset\n",
    "iris = load_iris()\n",
    "df = pd.DataFrame(data=np.c_[iris['data'], iris['target']], \n",
    "                  columns=iris['feature_names'] + ['target'])\n",
    "\n",
    "print(df.head())"
   ]
  },
  {
   "cell_type": "markdown",
   "metadata": {},
   "source": [
    "## 2. Explore the data"
   ]
  },
  {
   "cell_type": "code",
   "execution_count": null,
   "metadata": {},
   "outputs": [],
   "source": [
    "# Display basic information about the dataset\n",
    "print(df.info())\n",
    "\n",
    "# Display summary statistics\n",
    "print(df.describe())\n",
    "\n",
    "# Check for missing values\n",
    "print(df.isnull().sum())"
   ]
  },
  {
   "cell_type": "markdown",
   "metadata": {},
   "source": [
    "## 3. Perform basic data cleaning"
   ]
  },
  {
   "cell_type": "code",
   "execution_count": null,
   "metadata": {},
   "outputs": [],
   "source": [
    "# Convert target to categorical\n",
    "df['species'] = pd.Categorical.from_codes(iris.target, iris.target_names)\n",
    "\n",
    "# Check for duplicates\n",
    "print(f\"Number of duplicates: {df.duplicated().sum()}\")\n",
    "\n",
    "# Remove duplicates if any\n",
    "df = df.drop_duplicates()\n",
    "\n",
    "print(df.head())"
   ]
  },
  {
   "cell_type": "markdown",
   "metadata": {},
   "source": [
    "## 4. Visualize the data"
   ]
  },
  {
   "cell_type": "code",
   "execution_count": null,
   "metadata": {},
   "outputs": [],
   "source": [
    "# Pairplot to visualize relationships between features\n",
    "sns.pairplot(df, hue='species')\n",
    "plt.show()\n",
    "\n",
    "# Correlation heatmap\n",
    "plt.figure(figsize=(10, 8))\n",
    "sns.heatmap(df.corr(), annot=True, cmap='coolwarm')\n",
    "plt.title('Correlation Heatmap of Iris Features')\n",
    "plt.show()"
   ]
  },
  {
   "cell_type": "markdown",
   "metadata": {},
   "source": [
    "## 5. Prepare the data for model training"
   ]
  },
  {
   "cell_type": "code",
   "execution_count": null,
   "metadata": {},
   "outputs": [],
   "source": [
    "# Split features and target\n",
    "X = df.drop(['target', 'species'], axis=1)\n",
    "y = df['species']\n",
    "\n",
    "# Connect to your Azure ML workspace\n",
    "ws = Workspace.from_config()\n",
    "\n",
    "# Create a tabular dataset\n",
    "dataset = Dataset.Tabular.register_pandas_dataframe(\n",
    "    dataframe=df,\n",
    "    target=(ws, 'iris'),\n",
    "    name='iris',\n",
    "    description='Iris dataset for classification'\n",
    ")\n",
    "\n",
    "print(\"Dataset registered.\")\n",
    "print(f\"Dataset name: {dataset.name}, id: {dataset.id}\")"
   ]
  },
  {
   "cell_type": "markdown",
   "metadata": {},
   "source": [
    "## Conclusion\n",
    "\n",
    "We've successfully loaded the Iris dataset, explored its characteristics, performed basic cleaning, visualized the data, and prepared it for model training. The dataset has been registered in our Azure ML workspace and is now ready for use in our next notebook where we'll train our machine learning model."
   ]
  }
 ],
 "metadata": {
  "kernelspec": {
   "display_name": "Python 3",
   "language": "python",
   "name": "python3"
  },
  "language_info": {
   "codemirror_mode": {
    "name": "ipython",
    "version": 3
   },
   "file_extension": ".py",
   "mimetype": "text/x-python",
   "name": "python",
   "nbconvert_exporter": "python",
   "pygments_lexer": "ipython3",
   "version": "3.8.5"
  }
 },
 "nbformat": 4,
 "nbformat_minor": 4
}
